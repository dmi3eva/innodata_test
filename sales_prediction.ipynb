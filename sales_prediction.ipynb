{
 "cells": [
  {
   "cell_type": "code",
   "execution_count": null,
   "metadata": {
    "scrolled": true
   },
   "outputs": [],
   "source": [
    "import pandas as pd\n",
    "import plotly\n",
    "import matplotlib.pyplot as plt\n",
    "import seaborn as sns\n",
    "import numpy as np\n",
    "import datetime\n",
    "plt.style.use('ggplot')\n",
    "%matplotlib inline\n",
    "%pylab inline\n",
    "from sklearn.preprocessing import MinMaxScaler\n",
    "\n",
    "first_date = \"2012-04\"\n",
    "last_date = \"2017-05\""
   ]
  },
  {
   "cell_type": "markdown",
   "metadata": {},
   "source": [
    "# Auxiliary functions"
   ]
  },
  {
   "cell_type": "markdown",
   "metadata": {},
   "source": [
    "Binarizing boolean values"
   ]
  },
  {
   "cell_type": "code",
   "execution_count": null,
   "metadata": {
    "collapsed": true
   },
   "outputs": [],
   "source": [
    "def to_bin(logical):\n",
    "    if logical:\n",
    "        return 1\n",
    "    else:\n",
    "        return 0"
   ]
  },
  {
   "cell_type": "markdown",
   "metadata": {},
   "source": [
    "Calculating list of all months"
   ]
  },
  {
   "cell_type": "code",
   "execution_count": null,
   "metadata": {
    "collapsed": true
   },
   "outputs": [],
   "source": [
    "def get_months_list(start_date, finish_date):\n",
    "    months_list = [start_date]\n",
    "    current_date = start_date   \n",
    "    while (current_date != finish_date):\n",
    "        year = int(current_date[0:4])\n",
    "        month = int(current_date[5:7])\n",
    "        month = month + 1\n",
    "        if (month == 13):\n",
    "            month = 1\n",
    "            year += 1\n",
    "        if (month < 10):\n",
    "            current_date = str(year) + \"-0\" + str(month)\n",
    "        else:\n",
    "            current_date = str(year) + \"-\" + str(month)\n",
    "        months_list.append(current_date)       \n",
    "    return months_list\n",
    "        \n",
    "months_list = get_months_list(first_date, last_date)\n"
   ]
  },
  {
   "cell_type": "markdown",
   "metadata": {},
   "source": [
    "Initializing list of key-date with empty lists"
   ]
  },
  {
   "cell_type": "code",
   "execution_count": null,
   "metadata": {
    "collapsed": true
   },
   "outputs": [],
   "source": [
    "def init_flat_dates(data):\n",
    "    flat_dates = dict()\n",
    "    for name in data['flat_name']:\n",
    "        flat_dates[name] = []\n",
    "    return flat_dates"
   ]
  },
  {
   "cell_type": "markdown",
   "metadata": {},
   "source": [
    "Returns list of flat of different types"
   ]
  },
  {
   "cell_type": "code",
   "execution_count": null,
   "metadata": {
    "collapsed": true
   },
   "outputs": [],
   "source": [
    "def devide_flat_types(data, type_names):\n",
    "    res = dict()\n",
    "    for cur_type in type_names:\n",
    "        res[cur_type] = [data[\"flat_name\"][row] for row in range(data.shape[0]) if data[cur_type][row] == 1]\n",
    "    return res"
   ]
  },
  {
   "cell_type": "markdown",
   "metadata": {},
   "source": [
    "# Function for visual analysis"
   ]
  },
  {
   "cell_type": "code",
   "execution_count": null,
   "metadata": {
    "collapsed": true
   },
   "outputs": [],
   "source": [
    "def discrete_distribution_vis(data, column):\n",
    "    x_values = data[column].unique()\n",
    "    y_values = [len(data[data[column] == val]) for val in data[column].unique()]\n",
    "    plt.bar(x_values, y_values)\n",
    "    plt.xticks(x_values, x_values)\n",
    "    plt.title(column + \" distribution\")\n",
    "    plt.show()    \n",
    "    \n",
    "    \"\"\"\n",
    "    data['floor'].value_counts().plot(kind='bar', label='Floor')\n",
    "    plt.legend()\n",
    "    plt.title('Floor distribution');\n",
    "    \"\"\"    \n",
    "def сontinious_distribution_vis(data, column):\n",
    "    sns.distplot(data[column])\n",
    "    \n",
    "def dict_bar_vis(dictionary, name):    \n",
    "    y_values = list(dictionary.values())\n",
    "    x_values = np.arange(len(y_values))\n",
    "    x_labels = list(dictionary.keys())\n",
    "    plt.bar(x_values, y_values)\n",
    "    #x_labels = map(lambda x: x[5:7], list(dictionary.keys()))\n",
    "    #datetime.datetime.strptime('24052010', \"%d%m%Y\").date()\n",
    "    inds = np.argsort(np.array(x_labels))    \n",
    "    y_values = list(np.array(y_values)[inds])\n",
    "    x_labels = list(np.array(x_labels)[inds])\n",
    "    plt.xticks(x_values, x_labels)    \n",
    "    plt.title(name)\n",
    "    plt.show()\n",
    "    \n",
    "    \n",
    "def lead_visualize_bar(dictionary):    \n",
    "    x_values = np.arange(len(months_list))\n",
    "    for flat_type in dictionary.keys():\n",
    "        y_values = list(dictionary[flat_type])\n",
    "        plt.bar(x_values, y_values)\n",
    "        plt.xticks(x_values, x_values)    \n",
    "        plt.title(str(flat_type))\n",
    "        plt.show()\n",
    "    \n",
    "    \n",
    "def lead_visualize_plot(dictionary):    \n",
    "    x_values = np.arange(len(months_list))\n",
    "    for flat_type in dictionary.keys():\n",
    "        y_values = list(dictionary[flat_type])\n",
    "        plt.plot(x_values, y_values)\n",
    "        #plt.xticks(x_values, x_values)    \n",
    "    plt.title(\"Lead tendency\")\n",
    "    plt.show()\n",
    "    \n",
    "   "
   ]
  },
  {
   "cell_type": "markdown",
   "metadata": {},
   "source": [
    "# Extraction of time-independent features"
   ]
  },
  {
   "cell_type": "code",
   "execution_count": null,
   "metadata": {
    "collapsed": true
   },
   "outputs": [],
   "source": [
    "def transform_flat_area(data):\n",
    "    \"\"\"\n",
    "    Replace area of flat with scaling, normalized value\n",
    "    \"\"\"\n",
    "    data[\"wholeprojectarea\"] /= data[\"roomquantity\"]\n",
    "    data[\"wholeprojectarea\"] = (data[\"wholeprojectarea\"] - data[\"wholeprojectarea\"].mean()) / data[\"wholeprojectarea\"].std() \n",
    "    return data\n",
    "\n",
    "def transform_room_quantity(data):\n",
    "    \"\"\"\n",
    "    Vectorization of room quantity feature\n",
    "    \"\"\"\n",
    "    rooms = pd.get_dummies(data[\"roomquantity\"], prefix=\"room\")\n",
    "    data = pd.concat([data, rooms], axis=1)\n",
    "    data = data.drop(\"roomquantity\", 1)\n",
    "    data = data.drop(\"number_flat\", 1)\n",
    "    return data\n",
    "\n",
    "def transform_floor(data):  \n",
    "    \"\"\"\n",
    "    Vectorization of floor by group\n",
    "    \"\"\"\n",
    "    limits = [1, 2, 5, 9, 13, 19, 20]\n",
    "    names = [\"floors_\" + str(limits[i]) + \"-\" + str(limits[i+1]-1) for i in range(len(limits)-1)]\n",
    "    for num in range(len(limits)-1):\n",
    "        data[names[num]] = [to_bin(data[\"floor\"][row] >= limits[num] and data[\"floor\"][row] < limits[num+1]) for row in range(data.shape[0])]\n",
    "    data = data.drop(\"floor\", 1)\n",
    "    return data\n",
    "    \n",
    "def transform_categorical(data, column, regime=\"dum\"):\n",
    "    \"\"\"\n",
    "    Deletion columns or vectorization depend on regime\n",
    "    \"\"\"\n",
    "    if regime == \"dum\":\n",
    "        new_columns = pd.get_dummies(data[column], prefix=column)\n",
    "        data = pd.concat([data, new_columns], axis=1)     \n",
    "    data = data.drop(column, 1) \n",
    "    return data    \n",
    "    \n",
    "def extract_basic_attributes(basic_data):\n",
    "    \"\"\"\n",
    "    Extract basic attributes of all flats independent on time\n",
    "    \"\"\"   \n",
    "    #print(list(basic_data.columns))\n",
    "    basic_data = transform_flat_area(basic_data)\n",
    "    basic_data = transform_room_quantity(basic_data)\n",
    "    basic_data = transform_floor(basic_data)\n",
    "    basic_data = transform_categorical(basic_data, \"sector\", regime=\"dum\")\n",
    "    basic_data = transform_categorical(basic_data, \"corpus\", regime=\"del\")    \n",
    "    #print(list(basic_data.columns))\n",
    "    return basic_data"
   ]
  },
  {
   "cell_type": "markdown",
   "metadata": {},
   "source": [
    "# Extraction of time-dependent features"
   ]
  },
  {
   "cell_type": "code",
   "execution_count": null,
   "metadata": {
    "collapsed": true
   },
   "outputs": [],
   "source": [
    "def add_demand_month(data, lead_table): \n",
    "    tmp = data['date'][0][0:7]   \n",
    "    new_feature = []    \n",
    "    for row in range(data.shape[0]):  \n",
    "        if(data[\"studio\"][row] == 1):\n",
    "            type_flat = 'studio'\n",
    "        if(data[\"room_1\"][row] == 1):\n",
    "            type_flat = '1k'\n",
    "        if(data[\"room_2\"][row] == 1):\n",
    "            type_flat = '2k'\n",
    "        if(data[\"room_3\"][row] == 1):\n",
    "            type_flat = '3k'\n",
    "        if(data[\"room_4\"][row] == 1):\n",
    "            type_flat = '4k'\n",
    "        new_feature.append(lead_table[type_flat][months_list.index(str(data['date'][row][0:7]))])\n",
    "        #data[\"demand_month\"] = [lead_table['1k'][months_list.index(str(data['date'][row][0:7]))] for row in range(data.shape[0])]\n",
    "    data[\"demand_month\"] = new_feature\n",
    "    data[\"demand_month\"] = (data[\"demand_month\"] - data[\"demand_month\"].min()) / (data[\"demand_month\"].max() - data[\"demand_month\"].min())\n",
    "    return data"
   ]
  },
  {
   "cell_type": "code",
   "execution_count": null,
   "metadata": {
    "collapsed": true
   },
   "outputs": [],
   "source": [
    "def add_time_depend_features(data, lead_table, gis_data, history_data):\n",
    "    data = add_demand_month(data, lead_table)\n",
    "    \n",
    "    return data"
   ]
  },
  {
   "cell_type": "code",
   "execution_count": null,
   "metadata": {},
   "outputs": [],
   "source": []
  },
  {
   "cell_type": "markdown",
   "metadata": {},
   "source": [
    "## Calculating popularity of flats"
   ]
  },
  {
   "cell_type": "markdown",
   "metadata": {},
   "source": [
    "Calculate month popularity for all type of flats for those dates for which there is an information in the table"
   ]
  },
  {
   "cell_type": "code",
   "execution_count": null,
   "metadata": {
    "collapsed": true
   },
   "outputs": [],
   "source": [
    "def make_lead_table(data): \n",
    "    lead_list = dict()\n",
    "    flat_types = [\"studio\", \"1k\", \"2k\", \"3k\", \"4k\"]\n",
    "    lead_table = []\n",
    "    \n",
    "    #Create the dictionary (type: list of lead-dates) \n",
    "    for num in range(len(flat_types)):\n",
    "        lead_list[num] = [data[\"CreatedOn\"][row] for row in range(data.shape[0]) if data[\"room_\" + flat_types[num]][row] == 1]\n",
    "    \n",
    "    for num in range(len(flat_types)):\n",
    "        lead_table.append(dict())\n",
    "        for item in lead_list[num]:\n",
    "            date = item[0:7]            \n",
    "            if (date not in lead_table[num].keys()):\n",
    "                lead_table[num][date] = 1                \n",
    "            else:\n",
    "                lead_table[num][date] += 1\n",
    "                \n",
    "    #Calculating all flats demands      \n",
    "    lead_table.append(dict())\n",
    "    for row in range(data.shape[0]):\n",
    "        date = data[\"CreatedOn\"][row][0:7]\n",
    "        if (date not in lead_table[5].keys()):\n",
    "            lead_table[5][date] = 1                \n",
    "        else:\n",
    "            lead_table[5][date] += 1\n",
    "    return lead_table"
   ]
  },
  {
   "cell_type": "markdown",
   "metadata": {},
   "source": [
    "Calculate month popularity for all type of flats for all dates"
   ]
  },
  {
   "cell_type": "code",
   "execution_count": null,
   "metadata": {
    "collapsed": true
   },
   "outputs": [],
   "source": [
    "def make_full_lead_table(data): \n",
    "    res = dict()\n",
    "    flat_types = [\"studio\", \"1k\", \"2k\", \"3k\", \"4k\", \"all\"]\n",
    "    lead_table = make_lead_table(data)    \n",
    "    for type_num in range(len(flat_types)):\n",
    "        res[flat_types[type_num]] = []\n",
    "        for month_num in range(len(months_list)):\n",
    "            if (months_list[month_num] not in lead_table[type_num].keys()):\n",
    "                res[flat_types[type_num]].append(0)\n",
    "            else:\n",
    "                res[flat_types[type_num]].append(lead_table[type_num][months_list[month_num]])\n",
    "    return res"
   ]
  },
  {
   "cell_type": "markdown",
   "metadata": {},
   "source": [
    "# Calculating key-dates"
   ]
  },
  {
   "cell_type": "markdown",
   "metadata": {},
   "source": [
    "Calculating key-dates conneting with lead information"
   ]
  },
  {
   "cell_type": "code",
   "execution_count": null,
   "metadata": {
    "collapsed": true
   },
   "outputs": [],
   "source": [
    "def extract_lead_dates(data, flat_dates, flat_type_names, lead_table):\n",
    "    flat_lead_types = [\"studio\", \"1k\", \"2k\", \"3k\", \"4k\", \"all\"]\n",
    "    flat_types = [\"studio\", \"room_1\", \"room_2\", \"room_3\", \"room_4\"]\n",
    "    key_dates_part = dict() # tendency of particular type\n",
    "    key_dates_all = dict() # common tendency\n",
    "    key_dates_not = dict() # not popular dates\n",
    "    for i in range(len(flat_types)):\n",
    "        key_dates_part[flat_types[i]] = [months_list[ind] + \"-01\" for ind in range(len(months_list)) if lead_table[flat_lead_types[i]][ind] / lead_table[\"all\"][ind] > 2.1 * np.mean(lead_table[flat_lead_types[i]]) / np.mean(lead_table[\"all\"])] \n",
    "        key_dates_all[flat_types[i]] = [months_list[ind] + \"-01\" for ind in range(len(months_list)) if lead_table[flat_lead_types[i]][ind] > 5 * np.mean(lead_table[flat_lead_types[i]])] \n",
    "        key_dates_not[flat_types[i]] = [months_list[ind] + \"-01\" for ind in range(len(months_list)) if lead_table[flat_lead_types[i]][ind] == 0 and lead_table[\"all\"][ind] != 0] \n",
    "        \n",
    "        for flat_name in flat_type_names[flat_types[i]]:\n",
    "            flat_dates[flat_name].extend(key_dates_part[flat_types[i]])\n",
    "            flat_dates[flat_name].extend(key_dates_all[flat_types[i]])\n",
    "            not_len = len(key_dates_not[flat_types[i]])\n",
    "            if (not_len > 0):\n",
    "                np.random.shuffle(key_dates_not[flat_types[i]])                \n",
    "                flat_dates[flat_name].extend(key_dates_not[flat_types[i]][0 : int(min(3, not_len * 1.0 / 4))])\n",
    "    return flat_dates"
   ]
  },
  {
   "cell_type": "markdown",
   "metadata": {},
   "source": [
    "Extracting dates of key-dates:"
   ]
  },
  {
   "cell_type": "code",
   "execution_count": null,
   "metadata": {
    "collapsed": true
   },
   "outputs": [],
   "source": [
    "def extract_dates(data, flat_dates, column_name):\n",
    "    for row in range(data.shape[0]):\n",
    "        if (data['flat_name'][row] in flat_dates.keys()):\n",
    "            flat_dates[data['flat_name'][row]].append(data[column_name][row])\n",
    "    return flat_dates"
   ]
  },
  {
   "cell_type": "markdown",
   "metadata": {},
   "source": [
    "Adding dates to data"
   ]
  },
  {
   "cell_type": "code",
   "execution_count": null,
   "metadata": {
    "collapsed": true
   },
   "outputs": [],
   "source": [
    "def add_dates_to_data(data, dates):\n",
    "    columns = list(data.columns)\n",
    "    if 'date' not in columns:\n",
    "        columns.append('date')\n",
    "    new_data = pd.DataFrame(columns=columns)   \n",
    "    for row in range(data.shape[0]):  \n",
    "        for date in dates[data['flat_name'][row]]:         \n",
    "            df_tmp = pd.DataFrame(index=np.arange(0, 1), columns = list(data.columns))\n",
    "            df_tmp.loc[0] = list(data.loc[row])   \n",
    "            df_tmp['date'] = date \n",
    "            new_data = new_data.append(df_tmp, ignore_index=True)            \n",
    "    return new_data"
   ]
  },
  {
   "cell_type": "code",
   "execution_count": null,
   "metadata": {
    "collapsed": true
   },
   "outputs": [],
   "source": []
  },
  {
   "cell_type": "code",
   "execution_count": null,
   "metadata": {
    "collapsed": true
   },
   "outputs": [],
   "source": []
  },
  {
   "cell_type": "code",
   "execution_count": null,
   "metadata": {
    "collapsed": true
   },
   "outputs": [],
   "source": []
  },
  {
   "cell_type": "markdown",
   "metadata": {},
   "source": [
    "# Reading data"
   ]
  },
  {
   "cell_type": "code",
   "execution_count": null,
   "metadata": {
    "collapsed": true
   },
   "outputs": [],
   "source": [
    "initial_data = pd.read_csv(\"data/flat.csv\", delimiter = ';')    \n",
    "lead_data = pd.read_csv(\"data/lead.csv\", delimiter = ';')\n",
    "deal_data = pd.read_csv(\"data/opportunity.csv\", delimiter = ';')\n",
    "gis_data = pd.read_csv(\"data/gis.csv\", delimiter = ';')\n",
    "history_data = pd.read_csv(\"data/history.csv\", delimiter = ';')"
   ]
  },
  {
   "cell_type": "markdown",
   "metadata": {},
   "source": [
    "# Visual analysis"
   ]
  },
  {
   "cell_type": "code",
   "execution_count": null,
   "metadata": {},
   "outputs": [],
   "source": [
    "\"\"\"\n",
    "discrete_distribution_vis(basic_data, \"floor\")\n",
    "discrete_distribution_vis(basic_data, \"corpus\")\n",
    "discrete_distribution_vis(basic_data, \"sector\")\n",
    "сontinious_distribution_vis(basic_data, \"wholeprojectarea\")\n",
    "flat_types = [\"studio\", \"1k\", \"2k\", \"3k\", \"4k\", \"all\"]\n",
    "lead_table = make_lead_table(lead_data)\n",
    "for i in range(len(flat_types)):\n",
    "    dict_bar_vis(lead_table[i], flat_types[i])\n",
    "\"\"\"\n",
    "full_lead_table = make_full_lead_table(lead_data)\n",
    "#lead_visualize_bar(full_lead_table)\n",
    "lead_visualize_plot(full_lead_table)"
   ]
  },
  {
   "cell_type": "markdown",
   "metadata": {},
   "source": [
    "Transform dates"
   ]
  },
  {
   "cell_type": "code",
   "execution_count": null,
   "metadata": {
    "collapsed": true
   },
   "outputs": [],
   "source": [
    "import datetime\n",
    "def transform_date(data):\n",
    "    delta = list(map(lambda x: int(x[0:4])*365 + (int(x[5:7]))*30 - int(first_date[0:4])*365-int(first_date[5:7])*30, data['date']))\n",
    "    #data['date'] = list(map(lambda x: (datetime.datetime.strptime(str(x), '%Y-%m-%d')-datetime.datetime.strptime(str(first_date)+\"-01\", '%Y-%m-%d')).days(), data['date']))\n",
    "    #print(year)\n",
    "    delta = np.array(delta) \n",
    "    data['date'] = (delta - delta.mean()) / delta.std()\n",
    "    return data"
   ]
  },
  {
   "cell_type": "markdown",
   "metadata": {},
   "source": [
    "Create labels"
   ]
  },
  {
   "cell_type": "code",
   "execution_count": null,
   "metadata": {
    "collapsed": true
   },
   "outputs": [],
   "source": [
    "def make_labels(flat_dates_positive, flat_dates_negative): \n",
    "    labels = list(np.ones(len(flat_dates_positive)))\n",
    "    labels.extend(list(np.zeros(len(flat_dates_negative))))\n",
    "    labels = list(map(int, labels))\n",
    "    return labels"
   ]
  },
  {
   "cell_type": "markdown",
   "metadata": {},
   "source": [
    "# Makong train set"
   ]
  },
  {
   "cell_type": "code",
   "execution_count": null,
   "metadata": {},
   "outputs": [],
   "source": [
    "data = extract_basic_attributes(initial_data)\n",
    "lead_table = make_full_lead_table(lead_data)\n",
    "flat_type_names = devide_flat_types(data, [\"studio\", \"room_1\", \"room_2\", \"room_3\", \"room_4\"])\n",
    "flat_dates_negative = init_flat_dates(data)\n",
    "flat_dates_positive = init_flat_dates(data)\n",
    "flat_dates_negative = extract_lead_dates(data, flat_dates_negative, flat_type_names, lead_table) \n",
    "flat_dates_positive = extract_dates(deal_data, flat_dates_positive, \"contractdate\")\n",
    "flat_dates_negative = extract_dates(gis_data, flat_dates_negative, \"datefrom\")\n",
    "flat_dates_negative = extract_dates(history_data, flat_dates_negative, \"datefrom\")\n",
    "\n",
    "data = add_dates_to_data(data, flat_dates_positive)\n",
    "size_positive = data.shape[0]\n",
    "labels = np.ones(size_positive)\n",
    "#print(labels.shape)\n",
    "\n",
    "data = add_dates_to_data(data, flat_dates_negative)\n",
    "size_negative = data.shape[0] - size_positive\n",
    "labels = np.append(labels, np.zeros(size_negative))\n",
    "#labels = np.array(list(labels).extend(list(np.zeros(size_negative))))\n",
    "#labels = make_labels(flat_dates_positive, flat_dates_negative)\n",
    "#print(labels.shape)\n",
    "\n",
    "data = add_time_depend_features(data,lead_table, gis_data, history_data)\n",
    "\n",
    "print(list(data.columns))\n",
    "print(data.shape[0])\n",
    "#data = transform_date(data)\n",
    "data = data.drop(\"flat_name\", 1)\n",
    "data = data.drop(\"date\", 1)"
   ]
  },
  {
   "cell_type": "markdown",
   "metadata": {},
   "source": [
    "# Feature selection"
   ]
  },
  {
   "cell_type": "markdown",
   "metadata": {},
   "source": [
    "Dimensionality reduction"
   ]
  },
  {
   "cell_type": "code",
   "execution_count": null,
   "metadata": {
    "collapsed": true
   },
   "outputs": [],
   "source": [
    "from sklearn.decomposition import PCA\n",
    "data_for_pca = data\n",
    "pca = PCA(n_components=2)\n",
    "pca.fit(data_for_pca)\n",
    "data_pca = pca.transform(data_for_pca)"
   ]
  },
  {
   "cell_type": "markdown",
   "metadata": {
    "collapsed": true
   },
   "source": [
    "# Traininig"
   ]
  },
  {
   "cell_type": "code",
   "execution_count": null,
   "metadata": {},
   "outputs": [],
   "source": [
    "from sklearn.model_selection import KFold\n",
    "from sklearn.model_selection import cross_val_score\n",
    "from sklearn.model_selection import StratifiedKFold\n",
    "from sklearn.grid_search import GridSearchCV"
   ]
  },
  {
   "cell_type": "markdown",
   "metadata": {},
   "source": [
    "kNN, k-Fold"
   ]
  },
  {
   "cell_type": "code",
   "execution_count": null,
   "metadata": {},
   "outputs": [],
   "source": [
    "from sklearn.neighbors import KNeighborsClassifier\n",
    "\n",
    "X = np.array(data)\n",
    "print(X)\n",
    "#X = data.pca\n",
    "y = np.array(labels)\n",
    "\n",
    "n_neighbors_array = [1, 2, 3, 4, 5, 6, 7, 8, 9, 10, 15]\n",
    "best_n_neighbors_vals = []\n",
    "\n",
    "kf = KFold(n_splits=2)\n",
    "for train_index, test_index in kf.split(X):    \n",
    "    X_train, X_test = X[train_index], X[test_index]\n",
    "    y_train, y_test = y[train_index], y[test_index]\n",
    "    knn_clf = KNeighborsClassifier()\n",
    "    grid = GridSearchCV(knn_clf, param_grid={'n_neighbors': n_neighbors_array})\n",
    "    grid.fit(X_train, y_train)\n",
    "    best_n_neighbors = grid.best_estimator_.n_neighbors\n",
    "    best_n_neighbors_vals.append(best_n_neighbors)\n",
    "    scores = cross_val_score(grid, X_test, y_test, cv=5)\n",
    "print(\"Values of best parameters:\")\n",
    "print(best_n_neighbors_vals)\n",
    "print(\"Accuracy: %0.2f (+/- %0.2f)\" % (scores.mean(), scores.std() * 2))\n"
   ]
  },
  {
   "cell_type": "code",
   "execution_count": null,
   "metadata": {
    "collapsed": true
   },
   "outputs": [],
   "source": []
  },
  {
   "cell_type": "code",
   "execution_count": null,
   "metadata": {},
   "outputs": [],
   "source": [
    "\n",
    "data_test = extract_basic_attributes(initial_data)\n",
    "lead_table = make_full_lead_table(lead_data)\n",
    "flat_type_names = devide_flat_types(data_test, [\"studio\", \"room_1\", \"room_2\", \"room_3\", \"room_4\"])\n",
    "test_date = '2017-05-30'\n",
    "test_dates = dict()\n",
    "for flat_name in data_test['flat_name']:\n",
    "    test_dates[flat_name] = [test_date]\n",
    "data_test = add_dates_to_data(data_test, test_dates)\n",
    "data_test = add_time_depend_features(data_test,lead_table, gis_data, history_data)\n",
    "data_test = transform_date(data_test)\n",
    "flat_names = data_test['flat_name']\n",
    "data_test = data_test.drop(\"flat_name\", 1)\n",
    "data_test = data_test.drop(\"date\", 1)\n",
    "\n",
    "data_test_processed = np.array(data_test)\n",
    "result = grid.predict_proba(np.array(data_test_processed))\n"
   ]
  },
  {
   "cell_type": "code",
   "execution_count": null,
   "metadata": {},
   "outputs": [],
   "source": [
    "#print(result)\n",
    "result_pos = result[:,[1]].reshape(result.shape[0])\n",
    "print(result_pos)"
   ]
  },
  {
   "cell_type": "code",
   "execution_count": null,
   "metadata": {},
   "outputs": [],
   "source": [
    "result_pos = list(map(lambda x: to_bin(x > 0.5), result_pos))"
   ]
  },
  {
   "cell_type": "code",
   "execution_count": null,
   "metadata": {},
   "outputs": [],
   "source": [
    "result_to_csv = pd.DataFrame(columns=['flat_name','prediction'])  \n",
    "result_to_csv['flat_name'] = flat_names\n",
    "result_to_csv['prediction'] = result_pos\n",
    "result_to_csv"
   ]
  },
  {
   "cell_type": "code",
   "execution_count": null,
   "metadata": {},
   "outputs": [],
   "source": [
    "result_to_csv.to_csv(\"predictions.csv\")"
   ]
  },
  {
   "cell_type": "code",
   "execution_count": null,
   "metadata": {
    "collapsed": true
   },
   "outputs": [],
   "source": []
  },
  {
   "cell_type": "code",
   "execution_count": null,
   "metadata": {},
   "outputs": [],
   "source": []
  },
  {
   "cell_type": "code",
   "execution_count": null,
   "metadata": {},
   "outputs": [],
   "source": []
  },
  {
   "cell_type": "code",
   "execution_count": null,
   "metadata": {
    "collapsed": true
   },
   "outputs": [],
   "source": []
  }
 ],
 "metadata": {
  "kernelspec": {
   "display_name": "Python 3",
   "language": "python",
   "name": "python3"
  },
  "language_info": {
   "codemirror_mode": {
    "name": "ipython",
    "version": 3
   },
   "file_extension": ".py",
   "mimetype": "text/x-python",
   "name": "python",
   "nbconvert_exporter": "python",
   "pygments_lexer": "ipython3",
   "version": "3.6.3"
  }
 },
 "nbformat": 4,
 "nbformat_minor": 2
}
